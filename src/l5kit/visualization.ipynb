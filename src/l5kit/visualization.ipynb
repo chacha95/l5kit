{
    "cells": [
        {
            "cell_type": "code",
            "execution_count": 1,
            "source": [
                "import matplotlib.pyplot as plt\n",
                "\n",
                "import numpy as np\n",
                "\n",
                "from l5kit.data import ChunkedDataset, LocalDataManager\n",
                "from l5kit.dataset import EgoDataset, AgentDataset\n",
                "\n",
                "from l5kit.rasterization import build_rasterizer\n",
                "from l5kit.configs import load_config_data\n",
                "from l5kit.visualization import draw_trajectory, TARGET_POINTS_COLOR\n",
                "from l5kit.geometry import transform_points\n",
                "from tqdm import tqdm\n",
                "from collections import Counter\n",
                "from l5kit.data import PERCEPTION_LABELS\n",
                "from prettytable import PrettyTable\n",
                "\n",
                "import os\n",
                "\n",
                "from l5kit.visualization.visualizer.zarr_utils import zarr_to_visualizer_scene\n",
                "from l5kit.visualization.visualizer.visualizer import visualize\n",
                "from bokeh.io import output_notebook, show\n",
                "from l5kit.data import MapAPI"
            ],
            "outputs": [],
            "metadata": {}
        },
        {
            "cell_type": "code",
            "execution_count": 2,
            "source": [
                "# get config\n",
                "cfg = load_config_data(\"./visualisation_config.yaml\")\n",
                "print(cfg)"
            ],
            "outputs": [
                {
                    "output_type": "stream",
                    "name": "stdout",
                    "text": [
                        "{'format_version': 4, 'model_params': {'model_architecture': 'resnet50', 'history_num_frames': 0, 'future_num_frames': 50, 'step_time': 0.1, 'render_ego_history': True}, 'raster_params': {'raster_size': [224, 224], 'pixel_size': [0.5, 0.5], 'ego_center': [0.25, 0.5], 'map_type': 'py_semantic', 'satellite_map_key': 'aerial_map/aerial_map.png', 'semantic_map_key': 'semantic_map/semantic_map.pb', 'dataset_meta_key': 'meta.json', 'filter_agents_threshold': 0.5, 'disable_traffic_light_faces': False, 'set_origin_to_bottom': True}, 'val_data_loader': {'key': 'sample/sample.zarr', 'batch_size': 12, 'shuffle': False, 'num_workers': 16}}\n"
                    ]
                }
            ],
            "metadata": {}
        },
        {
            "cell_type": "code",
            "execution_count": 3,
            "source": [
                "print(f'current raster_param:\\n')\n",
                "for k,v in cfg[\"raster_params\"].items():\n",
                "    print(f\"{k}:{v}\")"
            ],
            "outputs": [
                {
                    "output_type": "stream",
                    "name": "stdout",
                    "text": [
                        "current raster_param:\n",
                        "\n",
                        "raster_size:[224, 224]\n",
                        "pixel_size:[0.5, 0.5]\n",
                        "ego_center:[0.25, 0.5]\n",
                        "map_type:py_semantic\n",
                        "satellite_map_key:aerial_map/aerial_map.png\n",
                        "semantic_map_key:semantic_map/semantic_map.pb\n",
                        "dataset_meta_key:meta.json\n",
                        "filter_agents_threshold:0.5\n",
                        "disable_traffic_light_faces:False\n",
                        "set_origin_to_bottom:True\n"
                    ]
                }
            ],
            "metadata": {}
        },
        {
            "cell_type": "code",
            "execution_count": 4,
            "source": [
                "dm = LocalDataManager(local_data_folder='/dataset')\n",
                "dataset_path = dm.require(cfg[\"val_data_loader\"][\"key\"])\n",
                "zarr_dataset = ChunkedDataset(dataset_path)\n",
                "zarr_dataset.open()\n",
                "print(zarr_dataset)"
            ],
            "outputs": [
                {
                    "output_type": "error",
                    "ename": "FileNotFoundError",
                    "evalue": "sample/sample.zarr is not present in local data folder /dataset",
                    "traceback": [
                        "\u001b[0;31m---------------------------------------------------------------------------\u001b[0m",
                        "\u001b[0;31mFileNotFoundError\u001b[0m                         Traceback (most recent call last)",
                        "\u001b[0;32m/tmp/ipykernel_3794601/2515667739.py\u001b[0m in \u001b[0;36m<module>\u001b[0;34m\u001b[0m\n\u001b[1;32m      1\u001b[0m \u001b[0mdm\u001b[0m \u001b[0;34m=\u001b[0m \u001b[0mLocalDataManager\u001b[0m\u001b[0;34m(\u001b[0m\u001b[0mlocal_data_folder\u001b[0m\u001b[0;34m=\u001b[0m\u001b[0;34m'/dataset'\u001b[0m\u001b[0;34m)\u001b[0m\u001b[0;34m\u001b[0m\u001b[0;34m\u001b[0m\u001b[0m\n\u001b[0;32m----> 2\u001b[0;31m \u001b[0mdataset_path\u001b[0m \u001b[0;34m=\u001b[0m \u001b[0mdm\u001b[0m\u001b[0;34m.\u001b[0m\u001b[0mrequire\u001b[0m\u001b[0;34m(\u001b[0m\u001b[0mcfg\u001b[0m\u001b[0;34m[\u001b[0m\u001b[0;34m\"val_data_loader\"\u001b[0m\u001b[0;34m]\u001b[0m\u001b[0;34m[\u001b[0m\u001b[0;34m\"key\"\u001b[0m\u001b[0;34m]\u001b[0m\u001b[0;34m)\u001b[0m\u001b[0;34m\u001b[0m\u001b[0;34m\u001b[0m\u001b[0m\n\u001b[0m\u001b[1;32m      3\u001b[0m \u001b[0mzarr_dataset\u001b[0m \u001b[0;34m=\u001b[0m \u001b[0mChunkedDataset\u001b[0m\u001b[0;34m(\u001b[0m\u001b[0mdataset_path\u001b[0m\u001b[0;34m)\u001b[0m\u001b[0;34m\u001b[0m\u001b[0;34m\u001b[0m\u001b[0m\n\u001b[1;32m      4\u001b[0m \u001b[0mzarr_dataset\u001b[0m\u001b[0;34m.\u001b[0m\u001b[0mopen\u001b[0m\u001b[0;34m(\u001b[0m\u001b[0;34m)\u001b[0m\u001b[0;34m\u001b[0m\u001b[0;34m\u001b[0m\u001b[0m\n\u001b[1;32m      5\u001b[0m \u001b[0mprint\u001b[0m\u001b[0;34m(\u001b[0m\u001b[0mzarr_dataset\u001b[0m\u001b[0;34m)\u001b[0m\u001b[0;34m\u001b[0m\u001b[0;34m\u001b[0m\u001b[0m\n",
                        "\u001b[0;32m~/.local/lib/python3.8/site-packages/l5kit/data/local_data_manager.py\u001b[0m in \u001b[0;36mrequire\u001b[0;34m(self, key)\u001b[0m\n\u001b[1;32m     56\u001b[0m             \u001b[0;32mreturn\u001b[0m \u001b[0mlocal_path_str\u001b[0m\u001b[0;34m\u001b[0m\u001b[0;34m\u001b[0m\u001b[0m\n\u001b[1;32m     57\u001b[0m         \u001b[0;32melse\u001b[0m\u001b[0;34m:\u001b[0m\u001b[0;34m\u001b[0m\u001b[0;34m\u001b[0m\u001b[0m\n\u001b[0;32m---> 58\u001b[0;31m             \u001b[0;32mraise\u001b[0m \u001b[0mFileNotFoundError\u001b[0m\u001b[0;34m(\u001b[0m\u001b[0;34mf\"{key} is not present in local data folder {self.root_folder}\"\u001b[0m\u001b[0;34m)\u001b[0m\u001b[0;34m\u001b[0m\u001b[0;34m\u001b[0m\u001b[0m\n\u001b[0m",
                        "\u001b[0;31mFileNotFoundError\u001b[0m: sample/sample.zarr is not present in local data folder /dataset"
                    ]
                }
            ],
            "metadata": {}
        },
        {
            "cell_type": "code",
            "execution_count": null,
            "source": [
                "# rednering AV location\n",
                "frames = zarr_dataset.frames\n",
                "coords = np.zeros((len(frames), 2))\n",
                "\n",
                "for idx_coord, idx_data in enumerate(tqdm(range(len(frames)))):\n",
                "    frame = zarr_dataset.frames[idx_data]\n",
                "    coords[idx_coord] = frame[\"ego_translation\"][:2]\n",
                "\n",
                "plt.scatter(coords[:, 0], coords[:, 1], marker='.')\n",
                "axes = plt.gca()\n",
                "axes.set_xlim([-2500, 1600])\n",
                "axes.set_ylim([-2500, 1600])"
            ],
            "outputs": [],
            "metadata": {}
        },
        {
            "cell_type": "code",
            "execution_count": null,
            "source": [
                "# visualize AV\n",
                "rast = build_rasterizer(cfg, dm)\n",
                "dataset = EgoDataset(cfg, zarr_dataset, rast)\n",
                "\n",
                "data = dataset[50]\n",
                "im = data['image'].transpose(1, 2, 0)\n",
                "im = dataset.rasterizer.to_rgb(im)\n",
                "target_positions_pixels = transform_points(data['target_positions'], data['raster_from_agent'])\n",
                "draw_trajectory(im, target_positions_pixels, TARGET_POINTS_COLOR, yaws=data['target_yaws'])\n",
                "\n",
                "plt.imshow(im)\n",
                "plt.show()"
            ],
            "outputs": [],
            "metadata": {}
        },
        {
            "cell_type": "code",
            "execution_count": null,
            "source": [
                "dataset = AgentDataset(cfg, zarr_dataset, rast)\n",
                "data = dataset[0]\n",
                "\n",
                "im = data['image'].transpose(1, 2, 0)\n",
                "im =dataset.rasterizer.to_rgb(im)\n",
                "target_positions_pixels = transform_points(data['target_positions'], data['raster_from_agent'])\n",
                "draw_trajectory(im, target_positions_pixels, TARGET_POINTS_COLOR, yaws=data['target_yaws'])\n",
                "\n",
                "plt.imshow(im)\n",
                "plt.show()"
            ],
            "outputs": [],
            "metadata": {}
        },
        {
            "cell_type": "code",
            "execution_count": null,
            "source": [
                "frame = 1\n",
                "\n",
                "print(f\"number of frames: {len(dataset)}\")\n",
                "print(np.shape(dataset[frame]['target_positions']))\n",
                "print(np.shape(dataset[frame]['history_positions']))\n",
                "print(dataset[frame]['target_positions'])\n",
                "print(dataset[frame]['history_positions'])"
            ],
            "outputs": [],
            "metadata": {}
        },
        {
            "cell_type": "code",
            "execution_count": null,
            "source": [
                "from IPython.display import display, clear_output\n",
                "import PIL\n",
                " \n",
                "cfg[\"raster_params\"][\"map_type\"] = \"py_semantic\"\n",
                "rast = build_rasterizer(cfg, dm)\n",
                "dataset = EgoDataset(cfg, zarr_dataset, rast)\n",
                "scene_idx = 1\n",
                "indexes = dataset.get_scene_indices(scene_idx)\n",
                "images = []\n",
                "\n",
                "for idx in indexes:\n",
                "    data = dataset[idx]\n",
                "    im = data[\"image\"].transpose(1, 2, 0)\n",
                "    im = dataset.rasterizer.to_rgb(im)\n",
                "    target_positions_pixels = transform_points(data[\"target_positions\"], data[\"raster_from_agent\"])\n",
                "    center_in_pixels = np.asarray(cfg[\"raster_params\"][\"ego_center\"]) * cfg[\"raster_params\"][\"raster_size\"]\n",
                "    draw_trajectory(im, target_positions_pixels, TARGET_POINTS_COLOR, yaws=data[\"target_yaws\"])\n",
                "    clear_output(wait=True)\n",
                "    display(PIL.Image.fromarray(im))"
            ],
            "outputs": [],
            "metadata": {}
        }
    ],
    "metadata": {
        "orig_nbformat": 4,
        "language_info": {
            "name": "python",
            "version": "3.8.10",
            "mimetype": "text/x-python",
            "codemirror_mode": {
                "name": "ipython",
                "version": 3
            },
            "pygments_lexer": "ipython3",
            "nbconvert_exporter": "python",
            "file_extension": ".py"
        },
        "kernelspec": {
            "name": "python3",
            "display_name": "Python 3.8.10 64-bit"
        },
        "interpreter": {
            "hash": "916dbcbb3f70747c44a77c7bcd40155683ae19c65e1c03b4aa3499c5328201f1"
        }
    },
    "nbformat": 4,
    "nbformat_minor": 2
}