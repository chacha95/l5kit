{
 "cells": [
  {
   "cell_type": "markdown",
   "source": [
    "# Line"
   ],
   "metadata": {}
  },
  {
   "cell_type": "code",
   "execution_count": 96,
   "source": [
    "from matplotlib import pyplot as plt\n",
    "from math import cos, sin\n",
    "\n",
    "def line(x, y, theta, l):\n",
    "    \"\"\"\n",
    "    Args:\n",
    "        x: start x coord\n",
    "        y: start y coord\n",
    "        theta: hdg\n",
    "        l: distance(length)\n",
    "    \n",
    "    Return:\n",
    "        nx: next x value\n",
    "        ny: next y value\n",
    "    \"\"\"\n",
    "    dx = l * cos(theta)\n",
    "    dy = l * sin(theta)\n",
    "\n",
    "    nx = x + dx\n",
    "    ny = y + dy\n",
    "\n",
    "    return nx, ny\n",
    "    \n",
    "x = -4.7170752711170401e+01\n",
    "y = 7.2847983820912710e-01\n",
    "hdg = 6.5477882613167993e-01\n",
    "length = 5.7280000000000000e+01\n",
    "\n",
    "sample_rate = 10\n",
    "x_li, y_li = [], []\n",
    "for i in range(sample_rate+1):\n",
    "    l = (length*i)/sample_rate\n",
    "    nx, ny = line(x, y, hdg, l)\n",
    "    x_li.append(nx), y_li.append(ny)\n",
    "    \n",
    "plt.plot(x_li, y_li, 'ro')\n",
    "plt.xlabel('X')\n",
    "plt.ylabel('Y')\n",
    "plt.title('line')\n",
    "plt.show()"
   ],
   "outputs": [
    {
     "output_type": "display_data",
     "data": {
      "text/plain": [
       "<Figure size 432x288 with 1 Axes>"
      ],
      "image/png": "[encoded data removed]"
     },
     "metadata": {
      "needs_background": "light"
     }
    }
   ],
   "metadata": {}
  },
  {
   "cell_type": "markdown",
   "source": [
    "# Param Cubic"
   ],
   "metadata": {}
  },
  {
   "cell_type": "code",
   "execution_count": 108,
   "source": [
    "from matplotlib import pyplot as plt\n",
    "from math import pow, cos, sin, hypot\n",
    "\n",
    "import numpy as np\n",
    "\n",
    "\n",
    "class Curve:\n",
    "    def __init__(self, x0: float, y0: float, hdg: float):\n",
    "        self.trans = np.array((x0, y0))\n",
    "        self.hdg = hdg\n",
    "        self.R = np.array(((np.cos(hdg), -np.sin(hdg)),\n",
    "                           (np.sin(hdg),  np.cos(hdg))))\n",
    "    \n",
    "    def rel_to_abs(self, p):\n",
    "        \"\"\"\n",
    "        Convert relative coordinate to absolute coord\n",
    "        (use rotation matrix)\n",
    "        \"\"\"\n",
    "        ap = self.R.dot(p) + self.trans \n",
    "        return ap[0], ap[1]\n",
    "\n",
    "\n",
    "class CubicEq:\n",
    "    def __init__(self, a, b, c, d):\n",
    "        self.a = a\n",
    "        self.b = b\n",
    "        self.c = c\n",
    "        self.d = d\n",
    "\n",
    "    def cal_cubic(self, p: float) -> float:\n",
    "        return self.a + self.b*p + self.c*pow(p, 2) + self.d*pow(p, 3)\n",
    "\n",
    "\n",
    "class ParamCubic(Curve):\n",
    "    def __init__(self, x0: float, y0: float, hdg: float, length: float, \n",
    "                 au: float, bu: float, cu: float, du: float,\n",
    "                 av: float, bv: float, cv: float, dv: float):\n",
    "        super().__init__(x0, y0, hdg)\n",
    "        self.u_eq = CubicEq(au, bu, cu, du)\n",
    "        self.v_eq = CubicEq(av, bv, cv, dv)\n",
    "        self.length = length\n",
    "    \n",
    "    def get_points(self):\n",
    "        interval = 1e-4\n",
    "        now_length = 0.0\n",
    "        p = 0.0\n",
    "\n",
    "        xs = [self.u_eq.cal_cubic(p)]\n",
    "        ys = [self.v_eq.cal_cubic(p)]\n",
    "        while True:\n",
    "            prev_p = (self.u_eq.cal_cubic(p), self.v_eq.cal_cubic(p))\n",
    "            p += interval\n",
    "            next_p = (self.u_eq.cal_cubic(p), self.v_eq.cal_cubic(p))\n",
    "            now_length += hypot(next_p[0] - prev_p[0], next_p[1], prev_p[1])\n",
    "            \n",
    "            if now_length > self.length:\n",
    "                break\n",
    "\n",
    "            nx, ny = self.rel_to_abs((next_p[0], next_p[1]))\n",
    "            xs.append(nx)\n",
    "            ys.append(ny)\n",
    "\n",
    "        return xs, ys\n",
    "\n",
    "\n",
    "x = -4.7170752711170401e+01\n",
    "y = 7.2847983820912710e-01\n",
    "hdg = 6.5477882613167993e-01\n",
    "length = 5.7280000000000000e+01\n",
    "aU=0.000000000000e+00\n",
    "bU=1.000000000000e+00\n",
    "cU=-4.666602734948e-09\n",
    "dU=-2.629787927644e-08\n",
    "aV=0.000000000000e+00\n",
    "bV=1.665334536938e-16\n",
    "cV=-1.987729787588e-04\n",
    "dV=-1.317158625579e-09\n",
    "U = [aU, bU, cU, dU]\n",
    "V = [aV, bV, cV, dV]\n",
    "\n",
    "paramcub = ParamCubic(x, y, hdg, length, aU, bU, cU, dU, aV, bV, cV, dV)\n",
    "x_li, y_li = paramcub.get_points()\n",
    "plt.plot(x_li, y_li, 'ro')\n",
    "plt.xlabel('X')\n",
    "plt.ylabel('Y')\n",
    "plt.title('param cubic')\n",
    "plt.show()"
   ],
   "outputs": [
    {
     "output_type": "display_data",
     "data": {
      "text/plain": [
       "<Figure size 432x288 with 1 Axes>"
      ],
      "image/png": "[encoded data removed]"
     },
     "metadata": {
      "needs_background": "light"
     }
    }
   ],
   "metadata": {}
  },
  {
   "cell_type": "code",
   "execution_count": 106,
   "source": [
    "class Curve:\n",
    "    def __init__(self, x0: float, y0: float, hdg: float):\n",
    "        self.x0 = x0\n",
    "        self.y0 = y0\n",
    "        self.hdg = hdg\n",
    "        self.cos, self.sin = cos(hdg), sin(hdg)\n",
    "    \n",
    "    def rel_to_abs(self, point):\n",
    "        \"\"\"\n",
    "        Convert relative coordinate to absolute coord\n",
    "        (use rotation matrix)\n",
    "        \"\"\"\n",
    "        x, y = point[0], point[1]\n",
    "        nx = self.x0 + x * self.cos - y * self.sin\n",
    "        ny = self.y0 + x * self.sin + y * self.cos\n",
    "        return nx, ny\n",
    "\n",
    "\n",
    "hdg = np.radians(90)\n",
    "x0 = 0\n",
    "y0 = 0\n",
    "c = Curve(x0, y0, hdg)\n",
    "\n",
    "v = np.array((1, 0))\n",
    "pv = c.rel_to_abs(v)\n",
    "print(int(pv[0]), int(pv[1]))\n",
    "print(pv[0], pv[1])\n",
    "\n",
    "v = np.array((0, 1))\n",
    "pv = c.rel_to_abs(v)\n",
    "print(int(pv[0]), int(pv[1]))\n",
    "print(pv[0], pv[1])"
   ],
   "outputs": [
    {
     "output_type": "stream",
     "name": "stdout",
     "text": [
      "0 1\n",
      "6.123233995736766e-17 1.0\n",
      "-1 0\n",
      "-1.0 6.123233995736766e-17\n"
     ]
    }
   ],
   "metadata": {}
  }
 ],
 "metadata": {
  "orig_nbformat": 4,
  "language_info": {
   "name": "python",
   "version": "3.8.10",
   "mimetype": "text/x-python",
   "codemirror_mode": {
    "name": "ipython",
    "version": 3
   },
   "pygments_lexer": "ipython3",
   "nbconvert_exporter": "python",
   "file_extension": ".py"
  },
  "kernelspec": {
   "name": "python3",
   "display_name": "Python 3.8.10 64-bit"
  },
  "interpreter": {
   "hash": "e7370f93d1d0cde622a1f8e1c04877d8463912d04d973331ad4851f04de6915a"
  }
 },
 "nbformat": 4,
 "nbformat_minor": 2
}