{
 "cells": [
  {
   "cell_type": "markdown",
   "source": [
    "# Line"
   ],
   "metadata": {}
  },
  {
   "cell_type": "code",
   "execution_count": 4,
   "source": [
    "from matplotlib import pyplot as plt\n",
    "from math import cos, sin\n",
    "\n",
    "def line(x, y, theta, l):\n",
    "    \"\"\"\n",
    "    Args:\n",
    "        x: start x coord\n",
    "        y: start y coord\n",
    "        theta: hdg\n",
    "        l: distance(length)\n",
    "    \n",
    "    Return:\n",
    "        nx: next x value\n",
    "        ny: next y value\n",
    "    \"\"\"\n",
    "    dx = l * cos(theta)\n",
    "    dy = l * sin(theta)\n",
    "\n",
    "    nx = x + dx\n",
    "    ny = y + dy\n",
    "\n",
    "    return nx, ny\n",
    "    \n",
    "x = -4.7170752711170401e+01\n",
    "y = 7.2847983820912710e-01\n",
    "hdg = 6.5477882613167993e-01\n",
    "length = 5.7280000000000000e+01\n",
    "\n",
    "sample_rate = 10\n",
    "x_li, y_li = [], []\n",
    "for i in range(sample_rate+1):\n",
    "    l = (length*i)/sample_rate\n",
    "    x, y = line(x, y, hdg, l)\n",
    "    x_li.append(x), y_li.append(y)\n",
    "    \n",
    "plt.plot(x_li, y_li, 'ro')\n",
    "plt.xlabel('X')\n",
    "plt.ylabel('Y')\n",
    "plt.title('line')\n",
    "plt.show()"
   ],
   "outputs": [
    {
     "output_type": "stream",
     "name": "stdout",
     "text": [
      "[-47.1707527111704, -42.627402556068326, -33.54070224586418, -19.910651780557963, -1.7372511601496718, 20.97949961536069, 48.23960054597313, 80.04305163168765, 116.38985287250424, 157.28000426842289, 202.7135058194436]\n"
     ]
    },
    {
     "output_type": "display_data",
     "data": {
      "text/plain": [
       "<Figure size 432x288 with 1 Axes>"
      ],
      "image/png": "[encoded data removed]"
     },
     "metadata": {
      "needs_background": "light"
     }
    }
   ],
   "metadata": {}
  }
 ],
 "metadata": {
  "orig_nbformat": 4,
  "language_info": {
   "name": "python",
   "version": "3.8.10",
   "mimetype": "text/x-python",
   "codemirror_mode": {
    "name": "ipython",
    "version": 3
   },
   "pygments_lexer": "ipython3",
   "nbconvert_exporter": "python",
   "file_extension": ".py"
  },
  "kernelspec": {
   "name": "python3",
   "display_name": "Python 3.8.10 64-bit"
  },
  "interpreter": {
   "hash": "e7370f93d1d0cde622a1f8e1c04877d8463912d04d973331ad4851f04de6915a"
  }
 },
 "nbformat": 4,
 "nbformat_minor": 2
}