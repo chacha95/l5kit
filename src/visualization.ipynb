{
    "cells": [
        {
            "cell_type": "code",
            "execution_count": null,
            "source": [
                "import matplotlib.pyplot as plt\n",
                "\n",
                "import numpy as np\n",
                "\n",
                "from l5kit.data import ChunkedDataset, LocalDataManager\n",
                "from l5kit.dataset import EgoDataset, AgentDataset\n",
                "\n",
                "from l5kit.rasterization import build_rasterizer\n",
                "from l5kit.configs import load_config_data\n",
                "from l5kit.visualization import draw_trajectory, TARGET_POINTS_COLOR\n",
                "from l5kit.geometry import transform_points\n",
                "from tqdm import tqdm\n",
                "from collections import Counter\n",
                "from l5kit.data import PERCEPTION_LABELS\n",
                "from prettytable import PrettyTable\n",
                "\n",
                "import os\n",
                "\n",
                "from l5kit.visualization.visualizer.zarr_utils import zarr_to_visualizer_scene\n",
                "from l5kit.visualization.visualizer.visualizer import visualize\n",
                "from bokeh.io import output_notebook, show\n",
                "from l5kit.data import MapAPI"
            ],
            "outputs": [],
            "metadata": {}
        },
        {
            "cell_type": "code",
            "execution_count": null,
            "source": [
                "# get config\n",
                "cfg = load_config_data(\"./visualisation_config.yaml\")\n",
                "print(cfg)"
            ],
            "outputs": [],
            "metadata": {}
        },
        {
            "cell_type": "code",
            "execution_count": null,
            "source": [
                "print(f'current raster_param:\\n')\n",
                "for k,v in cfg[\"raster_params\"].items():\n",
                "    print(f\"{k}:{v}\")"
            ],
            "outputs": [],
            "metadata": {}
        },
        {
            "cell_type": "code",
            "execution_count": null,
            "source": [
                "dm = LocalDataManager(local_data_folder='/dataset')\n",
                "dataset_path = dm.require(cfg[\"val_data_loader\"][\"key\"])\n",
                "zarr_dataset = ChunkedDataset(dataset_path)\n",
                "zarr_dataset.open()\n",
                "print(zarr_dataset)"
            ],
            "outputs": [],
            "metadata": {}
        },
        {
            "cell_type": "code",
            "execution_count": null,
            "source": [
                "# rednering AV location\n",
                "frames = zarr_dataset.frames\n",
                "coords = np.zeros((len(frames), 2))\n",
                "\n",
                "for idx_coord, idx_data in enumerate(tqdm(range(len(frames)))):\n",
                "    frame = zarr_dataset.frames[idx_data]\n",
                "    coords[idx_coord] = frame[\"ego_translation\"][:2]\n",
                "\n",
                "plt.scatter(coords[:, 0], coords[:, 1], marker='.')\n",
                "axes = plt.gca()\n",
                "axes.set_xlim([-2500, 1600])\n",
                "axes.set_ylim([-2500, 1600])"
            ],
            "outputs": [],
            "metadata": {}
        },
        {
            "cell_type": "code",
            "execution_count": null,
            "source": [
                "# visualize AV\n",
                "rast = build_rasterizer(cfg, dm)\n",
                "dataset = EgoDataset(cfg, zarr_dataset, rast)\n",
                "\n",
                "data = dataset[50]\n",
                "im = data['image'].transpose(1, 2, 0)\n",
                "im = dataset.rasterizer.to_rgb(im)\n",
                "target_positions_pixels = transform_points(data['target_positions'], data['raster_from_agent'])\n",
                "draw_trajectory(im, target_positions_pixels, TARGET_POINTS_COLOR, yaws=data['target_yaws'])\n",
                "\n",
                "plt.imshow(im)\n",
                "plt.show()"
            ],
            "outputs": [],
            "metadata": {}
        },
        {
            "cell_type": "code",
            "execution_count": null,
            "source": [
                "dataset = AgentDataset(cfg, zarr_dataset, rast)\n",
                "data = dataset[0]\n",
                "\n",
                "im = data['image'].transpose(1, 2, 0)\n",
                "im =dataset.rasterizer.to_rgb(im)\n",
                "target_positions_pixels = transform_points(data['target_positions'], data['raster_from_agent'])\n",
                "draw_trajectory(im, target_positions_pixels, TARGET_POINTS_COLOR, yaws=data['target_yaws'])\n",
                "\n",
                "plt.imshow(im)\n",
                "plt.show()"
            ],
            "outputs": [],
            "metadata": {}
        },
        {
            "cell_type": "code",
            "execution_count": null,
            "source": [
                "frame = 1\n",
                "\n",
                "print(f\"number of frames: {len(dataset)}\")\n",
                "print(np.shape(dataset[frame]['target_positions']))\n",
                "print(np.shape(dataset[frame]['history_positions']))\n",
                "print(dataset[frame]['target_positions'])\n",
                "print(dataset[frame]['history_positions'])"
            ],
            "outputs": [],
            "metadata": {}
        },
        {
            "cell_type": "code",
            "execution_count": null,
            "source": [
                "from IPython.display import display, clear_output\n",
                "import PIL\n",
                " \n",
                "cfg[\"raster_params\"][\"map_type\"] = \"py_semantic\"\n",
                "rast = build_rasterizer(cfg, dm)\n",
                "dataset = EgoDataset(cfg, zarr_dataset, rast)\n",
                "scene_idx = 1\n",
                "indexes = dataset.get_scene_indices(scene_idx)\n",
                "images = []\n",
                "\n",
                "for idx in indexes:\n",
                "    data = dataset[idx]\n",
                "    im = data[\"image\"].transpose(1, 2, 0)\n",
                "    im = dataset.rasterizer.to_rgb(im)\n",
                "    target_positions_pixels = transform_points(data[\"target_positions\"], data[\"raster_from_agent\"])\n",
                "    center_in_pixels = np.asarray(cfg[\"raster_params\"][\"ego_center\"]) * cfg[\"raster_params\"][\"raster_size\"]\n",
                "    draw_trajectory(im, target_positions_pixels, TARGET_POINTS_COLOR, yaws=data[\"target_yaws\"])\n",
                "    clear_output(wait=True)\n",
                "    display(PIL.Image.fromarray(im))"
            ],
            "outputs": [],
            "metadata": {}
        }
    ],
    "metadata": {
        "orig_nbformat": 4,
        "language_info": {
            "name": "python",
            "version": "3.8.10",
            "mimetype": "text/x-python",
            "codemirror_mode": {
                "name": "ipython",
                "version": 3
            },
            "pygments_lexer": "ipython3",
            "nbconvert_exporter": "python",
            "file_extension": ".py"
        },
        "kernelspec": {
            "name": "python3",
            "display_name": "Python 3.8.10 64-bit"
        },
        "interpreter": {
            "hash": "916dbcbb3f70747c44a77c7bcd40155683ae19c65e1c03b4aa3499c5328201f1"
        }
    },
    "nbformat": 4,
    "nbformat_minor": 2
}