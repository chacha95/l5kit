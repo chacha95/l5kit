{
 "cells": [
  {
   "cell_type": "code",
   "execution_count": 2,
   "source": [
    "import zarr\n",
    "\n",
    "z = zarr.zeros((10000, 10000), chunks=(1000, 1000), dtype='i4')"
   ],
   "outputs": [],
   "metadata": {}
  },
  {
   "cell_type": "code",
   "execution_count": 3,
   "source": [
    "import zarr\n",
    "import numpy as np\n",
    "\n",
    "z = zarr.open(\"./path/to/dataset.zarr\", mode=\"w\", shape=(500,), dtype=np.float32, chunks=(100,))\n",
    "z[0:150] = np.arange(150)"
   ],
   "outputs": [
    {
     "output_type": "execute_result",
     "data": {
      "text/plain": [
       "<zarr.core.Array (10000, 10000) int32>"
      ]
     },
     "metadata": {},
     "execution_count": 3
    }
   ],
   "metadata": {}
  }
 ],
 "metadata": {
  "orig_nbformat": 4,
  "language_info": {
   "name": "python",
   "version": "3.8.10",
   "mimetype": "text/x-python",
   "codemirror_mode": {
    "name": "ipython",
    "version": 3
   },
   "pygments_lexer": "ipython3",
   "nbconvert_exporter": "python",
   "file_extension": ".py"
  },
  "kernelspec": {
   "name": "python3",
   "display_name": "Python 3.8.10 64-bit"
  },
  "interpreter": {
   "hash": "e7370f93d1d0cde622a1f8e1c04877d8463912d04d973331ad4851f04de6915a"
  }
 },
 "nbformat": 4,
 "nbformat_minor": 2
}